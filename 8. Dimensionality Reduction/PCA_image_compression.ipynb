{
 "cells": [
  {
   "cell_type": "markdown",
   "metadata": {},
   "source": [
    "## Principal Component Analysis - Image Compression"
   ]
  },
  {
   "cell_type": "markdown",
   "metadata": {},
   "source": [
    "This code shows an example of using PCA (Principal Component Analysis) to try\n",
    "and capture the essence of a photo with much less data than it is originally\n",
    "described with. We use a set of 5000 images of faces, each one described by \n",
    "1024 features (colors of the pixels). Using PCA this is reduced to 100 features\n",
    "and the image is plotted again to compare it with the original. This way, the \n",
    "images are basically compressed but still retain their basic features. \n",
    "\n",
    "Try it for both more and less than 100 features, even go as far up as 1000 and as far down as 1, 2, or 3. "
   ]
  },
  {
   "cell_type": "markdown",
   "metadata": {},
   "source": [
    "### PCA, projection, and reconstruction functions"
   ]
  },
  {
   "cell_type": "code",
   "execution_count": 7,
   "metadata": {},
   "outputs": [],
   "source": [
    "import numpy as np\n",
    "from matplotlib import pyplot as plt\n",
    "from scipy.io import loadmat\n",
    "\n",
    "def pca(X):\n",
    "    # normalize the features\n",
    "    X = (X - X.mean()) / X.std()    \n",
    "    # compute the covariance matrix\n",
    "    X = np.matrix(X)\n",
    "    cov = (X.T * X) / X.shape[0]    \n",
    "    # perform SVD\n",
    "    U, S, V = np.linalg.svd(cov)    \n",
    "    return U, S, V\n",
    "\n",
    "def project_data(X, U, k):\n",
    "    # reduce the dimension to k\n",
    "    U_reduced = U[:,:k]\n",
    "    # project the data on k-hyperplane\n",
    "    return np.dot(X, U_reduced)\n",
    "\n",
    "def recover_data(Z, U, k):\n",
    "    # recover the data to show how they would look after the compression\n",
    "    U_reduced = U[:,:k]\n",
    "    return np.dot(Z, U_reduced.T)"
   ]
  },
  {
   "cell_type": "markdown",
   "metadata": {},
   "source": [
    "### Import and prepare data, print a portrait"
   ]
  },
  {
   "cell_type": "code",
   "execution_count": 8,
   "metadata": {},
   "outputs": [
    {
     "data": {
      "text/plain": [
       "<matplotlib.image.AxesImage at 0x286e3b3a128>"
      ]
     },
     "execution_count": 8,
     "metadata": {},
     "output_type": "execute_result"
    },
    {
     "data": {
      "image/png": "[encoded data removed]",
      "text/plain": [
       "<Figure size 432x288 with 1 Axes>"
      ]
     },
     "metadata": {
      "needs_background": "light"
     },
     "output_type": "display_data"
    }
   ],
   "source": [
    "# Load data:\n",
    "faces = loadmat('ex7faces.mat')\n",
    "X = faces['X']\n",
    "\n",
    "face_no = 3 # which portrait will we show (0-4999)\n",
    "# Arrange one of the faces in a square matrix (fourth one for example) and plot it:\n",
    "face = np.reshape(X[face_no,:], (32, 32))\n",
    "fig1 = plt.figure()\n",
    "ax1 = fig1.add_subplot(111)\n",
    "ax1.imshow(face)"
   ]
  },
  {
   "cell_type": "markdown",
   "metadata": {},
   "source": [
    "### Perform PCA, and then show recovered portrait"
   ]
  },
  {
   "cell_type": "code",
   "execution_count": 10,
   "metadata": {},
   "outputs": [
    {
     "name": "stdout",
     "output_type": "stream",
     "text": [
      "Variance retained:  0.943427351936446\n"
     ]
    },
    {
     "data": {
      "image/png": "[encoded data removed]",
      "text/plain": [
       "<Figure size 432x288 with 1 Axes>"
      ]
     },
     "metadata": {
      "needs_background": "light"
     },
     "output_type": "display_data"
    }
   ],
   "source": [
    "# Perform PCA on the data: \n",
    "U, S, V = pca(X)\n",
    "k = 100\n",
    "Z = project_data(X, U, k)\n",
    "X_recovered = recover_data(Z, U, k)\n",
    "\n",
    "# Arrange the recovered features of the face in a square matrix and plot it:\n",
    "face = np.reshape(X_recovered[face_no,:], (32, 32))\n",
    "fig2 = plt.figure()\n",
    "ax2 = fig2.add_subplot(111)\n",
    "ax2.imshow(face) \n",
    "\n",
    "print (\"Variance retained: \",sum(S[:k])/sum(S))"
   ]
  },
  {
   "cell_type": "code",
   "execution_count": null,
   "metadata": {},
   "outputs": [],
   "source": []
  }
 ],
 "metadata": {
  "kernelspec": {
   "display_name": "Python 3",
   "language": "python",
   "name": "python3"
  },
  "language_info": {
   "codemirror_mode": {
    "name": "ipython",
    "version": 3
   },
   "file_extension": ".py",
   "mimetype": "text/x-python",
   "name": "python",
   "nbconvert_exporter": "python",
   "pygments_lexer": "ipython3",
   "version": "3.7.3"
  }
 },
 "nbformat": 4,
 "nbformat_minor": 4
}
