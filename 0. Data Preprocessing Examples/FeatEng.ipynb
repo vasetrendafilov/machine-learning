{
 "cells": [
  {
   "cell_type": "markdown",
   "metadata": {},
   "source": [
    "### Label Encoding and One-hot Encoding"
   ]
  },
  {
   "cell_type": "code",
   "execution_count": 5,
   "metadata": {},
   "outputs": [
    {
     "name": "stdout",
     "output_type": "stream",
     "text": [
      "\n",
      "Original Data:\n",
      "     color       make  year  color_encoded  make_encoded\n",
      "0   green  Chevrolet  2017              1             1\n",
      "1    blue        BMW  2015              0             0\n",
      "2  yellow      Lexus  2018              2             2\n",
      "\n",
      "Encoded Data:\n",
      "     color       make  year  color_encoded  make_encoded  Color_0  Color_1  \\\n",
      "0   green  Chevrolet  2017              1             1      0.0      1.0   \n",
      "1    blue        BMW  2015              0             0      1.0      0.0   \n",
      "2  yellow      Lexus  2018              2             2      0.0      0.0   \n",
      "\n",
      "   Make0  Make1  \n",
      "0    0.0    1.0  \n",
      "1    1.0    0.0  \n",
      "2    0.0    0.0  \n"
     ]
    }
   ],
   "source": [
    "import pandas as pd\n",
    "#Create a test dataframe\n",
    "df = pd.DataFrame([\n",
    "       ['green', 'Chevrolet', 2017],\n",
    "       ['blue', 'BMW', 2015], \n",
    "       ['yellow', 'Lexus', 2018],\n",
    "])\n",
    "df.columns = ['color', 'make', 'year']\n",
    "\n",
    "from sklearn.preprocessing import LabelEncoder\n",
    "le_color = LabelEncoder()\n",
    "le_make = LabelEncoder()\n",
    "df['color_encoded'] = le_color.fit_transform(df.color)\n",
    "df['make_encoded'] = le_make.fit_transform(df.make)\n",
    "print(\"\\nOriginal Data:\\n\",df)\n",
    "\n",
    "from sklearn.preprocessing import OneHotEncoder\n",
    "color_ohe = OneHotEncoder()\n",
    "make_ohe = OneHotEncoder()\n",
    "X = color_ohe.fit_transform(df.color_encoded.values.reshape(-1,1)).toarray()\n",
    "Xm = make_ohe.fit_transform(df.make_encoded.values.reshape(-1,1)).toarray()\n",
    "\n",
    "dfOneHot = pd.DataFrame(X, columns = [\"Color_\"+str(int(i)) for i in range(X.shape[1])])\n",
    "df = pd.concat([df, dfOneHot], axis=1)\n",
    "dfOneHot = pd.DataFrame(Xm, columns = [\"Make\"+str(int(i)) for i in range(X.shape[1])])\n",
    "df = pd.concat([df, dfOneHot], axis=1)\n",
    "df = df.drop(\"Color_2\",1)\n",
    "df = df.drop(\"Make2\",1)\n",
    "print(\"\\nEncoded Data:\\n\",df)"
   ]
  },
  {
   "cell_type": "markdown",
   "metadata": {},
   "source": [
    "### Standardization"
   ]
  },
  {
   "cell_type": "code",
   "execution_count": 7,
   "metadata": {},
   "outputs": [
    {
     "name": "stdout",
     "output_type": "stream",
     "text": [
      "     Class label  Alcohol  Malic acid\n",
      "0              1    14.23        1.71\n",
      "1              1    13.20        1.78\n",
      "2              1    13.16        2.36\n",
      "3              1    14.37        1.95\n",
      "4              1    13.24        2.59\n",
      "5              1    14.20        1.76\n",
      "6              1    14.39        1.87\n",
      "7              1    14.06        2.15\n",
      "8              1    14.83        1.64\n",
      "9              1    13.86        1.35\n",
      "10             1    14.10        2.16\n",
      "11             1    14.12        1.48\n",
      "12             1    13.75        1.73\n",
      "13             1    14.75        1.73\n",
      "14             1    14.38        1.87\n",
      "15             1    13.63        1.81\n",
      "16             1    14.30        1.92\n",
      "17             1    13.83        1.57\n",
      "18             1    14.19        1.59\n",
      "19             1    13.64        3.10\n",
      "20             1    14.06        1.63\n",
      "21             1    12.93        3.80\n",
      "22             1    13.71        1.86\n",
      "23             1    12.85        1.60\n",
      "24             1    13.50        1.81\n",
      "25             1    13.05        2.05\n",
      "26             1    13.39        1.77\n",
      "27             1    13.30        1.72\n",
      "28             1    13.87        1.90\n",
      "29             1    14.02        1.68\n",
      "..           ...      ...         ...\n",
      "148            3    13.32        3.24\n",
      "149            3    13.08        3.90\n",
      "150            3    13.50        3.12\n",
      "151            3    12.79        2.67\n",
      "152            3    13.11        1.90\n",
      "153            3    13.23        3.30\n",
      "154            3    12.58        1.29\n",
      "155            3    13.17        5.19\n",
      "156            3    13.84        4.12\n",
      "157            3    12.45        3.03\n",
      "158            3    14.34        1.68\n",
      "159            3    13.48        1.67\n",
      "160            3    12.36        3.83\n",
      "161            3    13.69        3.26\n",
      "162            3    12.85        3.27\n",
      "163            3    12.96        3.45\n",
      "164            3    13.78        2.76\n",
      "165            3    13.73        4.36\n",
      "166            3    13.45        3.70\n",
      "167            3    12.82        3.37\n",
      "168            3    13.58        2.58\n",
      "169            3    13.40        4.60\n",
      "170            3    12.20        3.03\n",
      "171            3    12.77        2.39\n",
      "172            3    14.16        2.51\n",
      "173            3    13.71        5.65\n",
      "174            3    13.40        3.91\n",
      "175            3    13.27        4.28\n",
      "176            3    13.17        2.59\n",
      "177            3    14.13        4.10\n",
      "\n",
      "[178 rows x 3 columns]\n",
      "Mean before standardization:\n",
      "Alcohol=13.00, Malic acid=1.94\n",
      "\n",
      "Mean after standardization:\n",
      "Alcohol=-0.00, Malic acid=-0.00\n",
      "\n",
      "Standard deviation before standardization:\n",
      "Alcohol=0.81, Malic acid=0.77\n",
      "\n",
      "Standard deviation after standardization:\n",
      "Alcohol=1.00, Malic acid=1.00\n"
     ]
    }
   ],
   "source": [
    "import pandas as pd\n",
    "import numpy as np\n",
    "df = pd.io.parsers.read_csv('https://raw.githubusercontent.com/rasbt/pattern_classification/master/data/wine_data.csv',header=None,usecols=[0,1,2])\n",
    "df.columns=['Class label', 'Alcohol', 'Malic acid']\n",
    "print(df)\n",
    "\n",
    "from sklearn import preprocessing\n",
    "std_scale = preprocessing.StandardScaler().fit(df[['Alcohol', 'Malic acid']])\n",
    "df_std = std_scale.transform(df[['Alcohol', 'Malic acid']])\n",
    "df=np.array(df.values)\n",
    "\n",
    "print('Mean before standardization:\\nAlcohol={:.2f}, Malic acid={:.2f}'.format(df[:,1].mean(), df[:,0].mean()))\n",
    "print('\\nMean after standardization:\\nAlcohol={:.2f}, Malic acid={:.2f}'.format(df_std[:,0].mean(), df_std[:,1].mean()))\n",
    "print('\\nStandard deviation before standardization:\\nAlcohol={:.2f}, Malic acid={:.2f}'.format(df[:,1].std(), df[:,0].std()))\n",
    "print('\\nStandard deviation after standardization:\\nAlcohol={:.2f}, Malic acid={:.2f}'.format(df_std[:,0].std(), df_std[:,1].std()))"
   ]
  },
  {
   "cell_type": "markdown",
   "metadata": {},
   "source": [
    "### Normalization "
   ]
  },
  {
   "cell_type": "code",
   "execution_count": 8,
   "metadata": {},
   "outputs": [
    {
     "data": {
      "text/plain": [
       "(-2.0, 8.0)"
      ]
     },
     "execution_count": 8,
     "metadata": {},
     "output_type": "execute_result"
    },
    {
     "data": {
      "image/png": "[encoded data removed]",
      "text/plain": [
       "<Figure size 432x288 with 1 Axes>"
      ]
     },
     "metadata": {
      "needs_background": "light"
     },
     "output_type": "display_data"
    },
    {
     "data": {
      "image/png": "[encoded data removed]",
      "text/plain": [
       "<Figure size 432x288 with 1 Axes>"
      ]
     },
     "metadata": {
      "needs_background": "light"
     },
     "output_type": "display_data"
    }
   ],
   "source": [
    "import pandas as pd\n",
    "import matplotlib.pyplot as plt\n",
    "from sklearn import preprocessing\n",
    "df=pd.read_csv(\"iris.csv\") # import data\n",
    "df = df[[\"petal.length\", \"sepal.length\"]] # feature selection\n",
    "\n",
    "X_not_norm = df.values # inputs (NOT normalized)\n",
    "# visualizing:\n",
    "fig,ax = plt.subplots()\n",
    "ax.scatter(X_not_norm[:,0], X_not_norm[:,1])\n",
    "ax.set_xlim([-2, 7])\n",
    "ax.set_ylim([4, 8])\n",
    "\n",
    "X_norm = preprocessing.scale(df) # normalized inputs\n",
    "# visualizing:\n",
    "fig,ax = plt.subplots()\n",
    "ax.scatter(X_norm[:,0], X_norm[:,1])\n",
    "ax.set_xlim([-2, 7])\n",
    "ax.set_ylim([-2, 8])"
   ]
  },
  {
   "cell_type": "markdown",
   "metadata": {},
   "source": [
    "### Data Imputation "
   ]
  },
  {
   "cell_type": "code",
   "execution_count": 5,
   "metadata": {},
   "outputs": [
    {
     "name": "stdout",
     "output_type": "stream",
     "text": [
      "[[nan, 2, 3], [4, nan, 6], [10, nan, 9]] \n",
      "\n",
      "[[ 7.  2.  3.]\n",
      " [ 4.  2.  6.]\n",
      " [10.  2.  9.]]\n",
      "[[ 4.  2.  3.]\n",
      " [ 4.  2.  6.]\n",
      " [10.  2.  9.]]\n",
      "[[ 1.  2.  3.]\n",
      " [ 4.  1.  6.]\n",
      " [10.  1.  9.]]\n"
     ]
    }
   ],
   "source": [
    "import numpy as np\n",
    "from sklearn.impute import SimpleImputer\n",
    "imp_mean = SimpleImputer(missing_values=np.nan, strategy='mean')\n",
    "imp_mean.fit([[np.nan, 2, 3], [4, np.nan, 6], [10, np.nan, 9]])\n",
    "imp_mode = SimpleImputer(missing_values=np.nan, strategy='most_frequent')\n",
    "imp_mode.fit([[np.nan, 2, 3], [4, np.nan, 6], [10, np.nan, 9]])\n",
    "imp_constant = SimpleImputer(missing_values=np.nan, strategy='constant',fill_value=1)\n",
    "imp_constant.fit([[np.nan, 2, 3], [4, np.nan, 6], [10, np.nan, 9]])\n",
    "\n",
    "X = [[np.nan, 2, 3], [4, np.nan, 6], [10, np.nan, 9]]\n",
    "print(X,\"\\n\")\n",
    "print(imp_mean.transform(X))\n",
    "print(imp_mode.transform(X))\n",
    "print(imp_constant.transform(X)) "
   ]
  },
  {
   "cell_type": "markdown",
   "metadata": {},
   "source": [
    "### Oversampling "
   ]
  },
  {
   "cell_type": "code",
   "execution_count": 6,
   "metadata": {},
   "outputs": [
    {
     "name": "stdout",
     "output_type": "stream",
     "text": [
      "Counter({0: 9900, 1: 100})\n"
     ]
    },
    {
     "data": {
      "image/png": "[encoded data removed]",
      "text/plain": [
       "<Figure size 432x288 with 1 Axes>"
      ]
     },
     "metadata": {
      "needs_background": "light"
     },
     "output_type": "display_data"
    }
   ],
   "source": [
    "# Generate and plot a synthetic imbalanced classification dataset\n",
    "from collections import Counter\n",
    "from sklearn.datasets import make_classification\n",
    "from matplotlib import pyplot\n",
    "from numpy import where\n",
    "# define dataset\n",
    "X, y = make_classification(n_samples=10000, n_features=2, n_redundant=0,\n",
    "\tn_clusters_per_class=1, weights=[0.99], flip_y=0, random_state=1)\n",
    "# summarize class distribution\n",
    "counter = Counter(y)\n",
    "print(counter)\n",
    "# scatter plot of examples by class label\n",
    "for label, _ in counter.items():\n",
    "\trow_ix = where(y == label)[0]\n",
    "\tpyplot.scatter(X[row_ix, 0], X[row_ix, 1], label=str(label))\n",
    "pyplot.legend()\n",
    "pyplot.show()"
   ]
  },
  {
   "cell_type": "code",
   "execution_count": 7,
   "metadata": {},
   "outputs": [
    {
     "name": "stdout",
     "output_type": "stream",
     "text": [
      "Counter({0: 9900, 1: 100})\n",
      "Counter({0: 9900, 1: 9900})\n"
     ]
    },
    {
     "data": {
      "image/png": "[encoded data removed]",
      "text/plain": [
       "<Figure size 432x288 with 1 Axes>"
      ]
     },
     "metadata": {
      "needs_background": "light"
     },
     "output_type": "display_data"
    }
   ],
   "source": [
    "# Oversample and plot imbalanced dataset with SMOTE\n",
    "from collections import Counter\n",
    "from sklearn.datasets import make_classification\n",
    "from imblearn.over_sampling import SMOTE\n",
    "from matplotlib import pyplot\n",
    "from numpy import where\n",
    "# define dataset\n",
    "X, y = make_classification(n_samples=10000, n_features=2, n_redundant=0,n_clusters_per_class=1, weights=[0.99], flip_y=0, random_state=1)\n",
    "# summarize class distribution\n",
    "counter = Counter(y)\n",
    "print(counter)\n",
    "# transform the dataset\n",
    "oversample = SMOTE()\n",
    "X, y = oversample.fit_resample(X, y)\n",
    "# summarize the new class distribution\n",
    "counter = Counter(y)\n",
    "print(counter)\n",
    "# scatter plot of examples by class label\n",
    "for label, _ in counter.items():\n",
    "\trow_ix = where(y == label)[0]\n",
    "\tpyplot.scatter(X[row_ix, 0], X[row_ix, 1], label=str(label))\n",
    "pyplot.legend()\n",
    "pyplot.show()"
   ]
  },
  {
   "cell_type": "markdown",
   "metadata": {},
   "source": [
    "### Area under ROC curve"
   ]
  },
  {
   "cell_type": "code",
   "execution_count": 3,
   "metadata": {},
   "outputs": [
    {
     "name": "stdout",
     "output_type": "stream",
     "text": [
      "Chance: ROC AUC=0.500\n",
      "Logistic: ROC AUC=0.903\n"
     ]
    },
    {
     "data": {
      "image/png": "[encoded data removed]",
      "text/plain": [
       "<Figure size 432x288 with 1 Axes>"
      ]
     },
     "metadata": {
      "needs_background": "light"
     },
     "output_type": "display_data"
    }
   ],
   "source": [
    "%matplotlib inline\n",
    "from sklearn.datasets import make_classification\n",
    "from sklearn.linear_model import LogisticRegression\n",
    "from sklearn.model_selection import train_test_split\n",
    "from sklearn.metrics import roc_curve\n",
    "from sklearn.metrics import roc_auc_score\n",
    "from matplotlib import pyplot\n",
    "\n",
    "# generate 2 class dataset\n",
    "X, y = make_classification(n_samples=1000, n_classes=2, random_state=1)\n",
    "# split into train/test sets\n",
    "trainX, testX, trainy, testy = train_test_split(X, y, test_size=0.5, random_state=2)\n",
    "\n",
    "# generate a chance prediction (majority class)\n",
    "ns_probs = [0 for _ in range(len(testy))]\n",
    "# fit a model\n",
    "model = LogisticRegression(solver='lbfgs')\n",
    "model.fit(trainX, trainy)\n",
    "# predict probabilities\n",
    "lr_probs = model.predict_proba(testX)\n",
    "# keep probabilities for the positive outcome only\n",
    "lr_probs = lr_probs[:, 1]\n",
    "\n",
    "# calculate scores\n",
    "ns_auc = roc_auc_score(testy, ns_probs)\n",
    "lr_auc = roc_auc_score(testy, lr_probs)\n",
    "print('Chance: ROC AUC=%.3f' % (ns_auc))\n",
    "print('Logistic: ROC AUC=%.3f' % (lr_auc))\n",
    "\n",
    "# calculate roc curves\n",
    "ns_fpr, ns_tpr, _ = roc_curve(testy, ns_probs)\n",
    "lr_fpr, lr_tpr, _ = roc_curve(testy, lr_probs)\n",
    "# plot the roc curve\n",
    "pyplot.plot(ns_fpr, ns_tpr, linestyle='--', label='Chance')\n",
    "pyplot.plot(lr_fpr, lr_tpr, marker='.', label='Logistic')\n",
    "pyplot.xlabel('False Positive Rate')\n",
    "pyplot.ylabel('True Positive Rate')\n",
    "pyplot.legend()\n",
    "pyplot.show()"
   ]
  },
  {
   "cell_type": "code",
   "execution_count": null,
   "metadata": {},
   "outputs": [],
   "source": []
  },
  {
   "cell_type": "code",
   "execution_count": null,
   "metadata": {},
   "outputs": [],
   "source": []
  }
 ],
 "metadata": {
  "kernelspec": {
   "display_name": "Python 3",
   "language": "python",
   "name": "python3"
  },
  "language_info": {
   "codemirror_mode": {
    "name": "ipython",
    "version": 3
   },
   "file_extension": ".py",
   "mimetype": "text/x-python",
   "name": "python",
   "nbconvert_exporter": "python",
   "pygments_lexer": "ipython3",
   "version": "3.7.3"
  }
 },
 "nbformat": 4,
 "nbformat_minor": 4
}
