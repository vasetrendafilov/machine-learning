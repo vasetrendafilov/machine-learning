{
 "cells": [
  {
   "cell_type": "markdown",
   "metadata": {},
   "source": [
    "## K-means Clustering"
   ]
  },
  {
   "cell_type": "markdown",
   "metadata": {},
   "source": [
    "This code shows and example of K-means clustering of two dimensional data points.\n",
    "The number of clusters can be changed. All four main operations - random cluster\n",
    "centroid initialization, location of nearest centroids, computation of new\n",
    "centroid locations, and execution of the entire k-means loop - are programmed from \n",
    "scratch, to show the algorithms behind this classification method."
   ]
  },
  {
   "cell_type": "markdown",
   "metadata": {},
   "source": [
    "### Find closest centroids, Compute new centroids, Initialize centroids, and Run k-means functions"
   ]
  },
  {
   "cell_type": "code",
   "execution_count": 69,
   "metadata": {},
   "outputs": [],
   "source": [
    "import numpy as np\n",
    "import matplotlib.pyplot as plt\n",
    "from scipy.io import loadmat\n",
    "\n",
    "def find_closest_centroids(X, centroids):       # find closest centroid for each data sample in X\n",
    "    m = X.shape[0]\n",
    "    k = centroids.shape[0]\n",
    "    idx = np.zeros(m)                           # array where we keep the centroids attached to each data point\n",
    "    \n",
    "    for i in range(m):                          # for each data point\n",
    "        min_dist = 1000000                      # define a default maximum distance (very large number)\n",
    "        for j in range(k):                      # for each centroid\n",
    "            dist = np.sum((X[i,:] - centroids[j,:]) ** 2)       # calculate squared distance (x2-x1)^2 + (y2-y1)^2 (no need for root)\n",
    "            if dist < min_dist:                                 # if it is the smallest distance:\n",
    "                min_dist = dist                 # remember it\n",
    "                idx[i] = j                      # remember the centroid\n",
    "    \n",
    "    return idx\n",
    "\n",
    "def compute_centroids(X, idx, k):               # compute new values for centroids\n",
    "    m, n = X.shape                              # m is number of data points, n is dimension of data points\n",
    "    centroids = np.zeros((k, n))                # k is number of centroids (clusters)\n",
    "    \n",
    "    for i in range(k):                          # for each centroid:\n",
    "        indices = np.where(idx == i)            # return a list of indices of the elements of idx that belong to that centroid cluster\n",
    "        centroids[i,:] = (np.sum(X[indices,:], axis=1) / len(indices[0])).ravel()  # calculate the new value of the centroid location\n",
    "    \n",
    "    return centroids\n",
    "\n",
    "def init_centroids(X, k):                   # randomly initialize centroid locations\n",
    "    m, n = X.shape\n",
    "    centroids = np.zeros((k, n))\n",
    "    idx = np.random.randint(0, m, k)        # randomly initialize a list of k numbers between 0 and m\n",
    "    for i in range(k):                      # for each centroid:\n",
    "        centroids[i,:] = X[idx[i],:]        # position it at the same location as the idx-th data point\n",
    "    \n",
    "    return centroids\n",
    "\n",
    "def run_k_means(X, initial_centroids, max_iters):   # run the k-means classification algorithm\n",
    "    m, n = X.shape                                  # m is number of data points, n is dimension of data points\n",
    "    k = initial_centroids.shape[0]                  # k is number of centroids (clusters)\n",
    "    idx = np.zeros(m)                               # idx will store the centroids attached to each data point\n",
    "    centroids = initial_centroids                   # initialize centroids\n",
    "    \n",
    "    for i in range(max_iters):                      # in every iteration:\n",
    "        idx = find_closest_centroids(X, centroids)  # find the closest centroid for each data point\n",
    "        centroids = compute_centroids(X, idx, k)    # update the centroid locations \n",
    "    \n",
    "    return idx, centroids "
   ]
  },
  {
   "cell_type": "markdown",
   "metadata": {},
   "source": [
    "### Import and prepare data"
   ]
  },
  {
   "cell_type": "code",
   "execution_count": 70,
   "metadata": {},
   "outputs": [],
   "source": [
    "data = loadmat('ex7data2.mat')              # load data \n",
    "X = data['X']\n",
    "number_of_clusters = 3\n",
    "number_of_iterations = 100"
   ]
  },
  {
   "cell_type": "markdown",
   "metadata": {},
   "source": [
    "### Run k-means algorithm"
   ]
  },
  {
   "cell_type": "code",
   "execution_count": 71,
   "metadata": {},
   "outputs": [
    {
     "name": "stdout",
     "output_type": "stream",
     "text": [
      "List of cluster assignment for each data point at the beginning:\n",
      " [0. 2. 2. 2. 2. 0. 0. 2. 2. 2. 2. 2. 0. 2. 0. 2. 2. 2. 0. 2. 0. 2. 2. 0.\n",
      " 0. 2. 2. 0. 0. 0. 2. 2. 2. 2. 2. 2. 0. 2. 2. 0. 2. 2. 2. 0. 0. 2. 2. 2.\n",
      " 0. 2. 2. 2. 2. 2. 2. 2. 0. 0. 2. 0. 0. 2. 0. 0. 2. 0. 2. 0. 2. 2. 2. 0.\n",
      " 0. 2. 2. 0. 0. 2. 0. 0. 0. 2. 2. 2. 2. 2. 2. 0. 0. 2. 2. 2. 0. 2. 2. 2.\n",
      " 2. 0. 0. 2. 0. 0. 1. 0. 0. 0. 0. 0. 0. 1. 0. 0. 0. 1. 0. 0. 0. 0. 0. 0.\n",
      " 0. 1. 0. 1. 0. 0. 0. 0. 0. 0. 0. 0. 0. 0. 0. 0. 0. 0. 0. 0. 0. 0. 0. 0.\n",
      " 0. 0. 0. 0. 0. 0. 0. 0. 0. 0. 0. 0. 0. 0. 0. 0. 1. 0. 0. 1. 0. 0. 0. 0.\n",
      " 0. 0. 0. 0. 0. 1. 0. 0. 0. 0. 0. 0. 0. 0. 0. 0. 0. 0. 0. 1. 0. 0. 0. 0.\n",
      " 0. 0. 0. 0. 1. 0. 0. 0. 1. 1. 2. 1. 2. 2. 1. 2. 2. 2. 2. 1. 1. 1. 1. 1.\n",
      " 2. 1. 1. 2. 2. 1. 1. 2. 2. 2. 2. 2. 2. 1. 1. 1. 1. 2. 1. 2. 2. 2. 2. 2.\n",
      " 2. 2. 2. 2. 1. 2. 2. 2. 2. 1. 1. 1. 1. 1. 2. 1. 2. 1. 1. 1. 1. 2. 1. 1.\n",
      " 1. 2. 1. 2. 1. 2. 1. 2. 1. 2. 2. 1. 2. 2. 1. 2. 2. 2. 1. 1. 1. 1. 2. 1.\n",
      " 2. 2. 1. 1. 2. 2. 1. 2. 1. 2. 1. 0.]\n",
      "Initial centroid locations:\n",
      " [[2.1270185  0.95672042]\n",
      " [5.37052667 2.44954813]\n",
      " [5.19590823 3.06972937]]\n",
      "Centroid locations after just one interation:\n",
      " [[2.33711461 2.1597333 ]\n",
      " [6.07119196 2.45761295]\n",
      " [3.98274448 4.18546338]]\n",
      "Final centroid locations:\n",
      " [[3.04367119 1.01541041]\n",
      " [6.03366736 3.00052511]\n",
      " [1.95399466 5.02557006]]\n"
     ]
    }
   ],
   "source": [
    "#initial_centroids = np.array([[3, 3], [6, 2], [8, 5]])    # initialize cluster centroids (exactly)\n",
    "#initial_centroids = np.array([[4.5, 2], [1, 5], [2, 5]])    # initialize cluster centroids (exactly)\n",
    "initial_centroids = init_centroids(X, number_of_clusters)   # initialize cluster centroids (randomly)\n",
    "\n",
    "idx = find_closest_centroids(X, initial_centroids)          # find closest centroids for the first time (just for show)\n",
    "print (\"List of cluster assignment for each data point at the beginning:\\n\",idx)\n",
    "print (\"Initial centroid locations:\\n\",initial_centroids)\n",
    "print (\"Centroid locations after just one interation:\\n\",compute_centroids(X, idx, number_of_clusters))         # compute initial centroid locations\n",
    "idx, centroids = run_k_means(X, initial_centroids, number_of_iterations)    # run k-means \n",
    "\n",
    "cluster1 = X[np.where(idx == 0)[0],:]       # sort the data points in clusters according to idx list\n",
    "cluster2 = X[np.where(idx == 1)[0],:]\n",
    "cluster3 = X[np.where(idx == 2)[0],:]\n",
    "cluster4 = X[np.where(idx == 3)[0],:]\n",
    "cluster5 = X[np.where(idx == 4)[0],:]\n",
    "cluster6 = X[np.where(idx == 5)[0],:]\n",
    "\n",
    "print (\"Final centroid locations:\\n\",compute_centroids(X, idx, number_of_clusters))         # compute final centroid locations (compare with initial) "
   ]
  },
  {
   "cell_type": "markdown",
   "metadata": {},
   "source": [
    "### Plot the resulting clusters"
   ]
  },
  {
   "cell_type": "code",
   "execution_count": 72,
   "metadata": {},
   "outputs": [
    {
     "data": {
      "text/plain": [
       "<matplotlib.legend.Legend at 0x1f2251cd780>"
      ]
     },
     "execution_count": 72,
     "metadata": {},
     "output_type": "execute_result"
    },
    {
     "data": {
      "image/png": "[encoded data removed]",
      "text/plain": [
       "<Figure size 864x576 with 1 Axes>"
      ]
     },
     "metadata": {
      "needs_background": "light"
     },
     "output_type": "display_data"
    }
   ],
   "source": [
    "fig, ax = plt.subplots(figsize=(12,8))                      # scatter plot the clustered data \n",
    "ax.scatter(cluster1[:,0], cluster1[:,1], s=30, color='r', label='Cluster 1')\n",
    "ax.scatter(cluster2[:,0], cluster2[:,1], s=30, color='g', label='Cluster 2')\n",
    "ax.scatter(cluster3[:,0], cluster3[:,1], s=30, color='b', label='Cluster 3')\n",
    "ax.scatter(cluster4[:,0], cluster4[:,1], s=30, color='k', label='Cluster 4')\n",
    "ax.scatter(cluster5[:,0], cluster5[:,1], s=30, color='m', label='Cluster 5')\n",
    "ax.scatter(cluster6[:,0], cluster6[:,1], s=30, color='c', label='Cluster 6')\n",
    "ax.legend() "
   ]
  },
  {
   "cell_type": "code",
   "execution_count": null,
   "metadata": {},
   "outputs": [],
   "source": []
  }
 ],
 "metadata": {
  "kernelspec": {
   "display_name": "Python 3",
   "language": "python",
   "name": "python3"
  },
  "language_info": {
   "codemirror_mode": {
    "name": "ipython",
    "version": 3
   },
   "file_extension": ".py",
   "mimetype": "text/x-python",
   "name": "python",
   "nbconvert_exporter": "python",
   "pygments_lexer": "ipython3",
   "version": "3.7.3"
  }
 },
 "nbformat": 4,
 "nbformat_minor": 4
}
