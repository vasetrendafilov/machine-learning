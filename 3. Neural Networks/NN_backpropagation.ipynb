{
 "cells": [
  {
   "cell_type": "markdown",
   "metadata": {},
   "source": [
    "## Neural Networks and Backpropagation"
   ]
  },
  {
   "cell_type": "markdown",
   "metadata": {},
   "source": [
    "This code shows an example of NN backpropagation. The data are 5000 instances of 20x20 pixels \n",
    "of handwritten digits in grayscale, along with the value of the digits (0-9), taken from the \n",
    "Machine Learning Stanford class of Andrew Ng. "
   ]
  },
  {
   "cell_type": "markdown",
   "metadata": {},
   "source": [
    "### Sigmoid, gradient, feed-forward, and backpropagation functions "
   ]
  },
  {
   "cell_type": "code",
   "execution_count": 23,
   "metadata": {},
   "outputs": [],
   "source": [
    "import numpy as np  \n",
    "from scipy.io import loadmat\n",
    "from scipy.optimize import minimize \n",
    "from sklearn.preprocessing import OneHotEncoder \n",
    "\n",
    "def sigmoid(z):  \n",
    "    return 1 / (1 + np.exp(-z))\n",
    "\n",
    "def sigmoid_gradient(z):  \n",
    "    return np.multiply(sigmoid(z), (1 - sigmoid(z)))\n",
    "\n",
    "def forward_propagate(X, theta1, theta2):       # forward propagate function for a NN with one hidden layer for all data points at once\n",
    "    m = X.shape[0]                              # number of data points\n",
    "    a1 = np.insert(X, 0, values=np.ones(m), axis=1)     # insert bias nodes at input layer\n",
    "    z2 = a1 * theta1.T                          # calculate weighted sum at the hidden layer input\n",
    "    a2 = np.insert(sigmoid(z2), 0, values=np.ones(m), axis=1) # insert bias nodes and calculate sigmoid functions at hidden layer\n",
    "    z3 = a2 * theta2.T                          # calculate weighted sum at the output layer input\n",
    "    h = sigmoid(z3)                             # calculate sigmoid function at NN output\n",
    "    return a1, z2, a2, z3, h\n",
    "\n",
    "def backprop(params, input_size, hidden_size, num_labels, X, y, reg_term):  \n",
    "    m = X.shape[0]\n",
    "    X = np.matrix(X)\n",
    "    y = np.matrix(y)\n",
    "\n",
    "    # reshape the parameter array into parameter matrices for each layer\n",
    "    theta1 = np.matrix(np.reshape(params[:hidden_size * (input_size + 1)], (hidden_size, (input_size + 1))))\n",
    "    theta2 = np.matrix(np.reshape(params[hidden_size * (input_size + 1):], (num_labels, (hidden_size + 1))))\n",
    "\n",
    "    # run the feed-forward pass\n",
    "    a1, z2, a2, z3, h = forward_propagate(X, theta1, theta2)\n",
    "\n",
    "    # initializations\n",
    "    J = 0\n",
    "    delta1 = np.zeros(theta1.shape)  # (25, 401)\n",
    "    delta2 = np.zeros(theta2.shape)  # (10, 26)\n",
    "\n",
    "    # compute the cost\n",
    "    for i in range(m):\n",
    "        first_term = np.multiply(-y[i,:], np.log(h[i,:]))\n",
    "        second_term = np.multiply((1 - y[i,:]), np.log(1 - h[i,:]))\n",
    "        J += np.sum(first_term - second_term)\n",
    "\n",
    "    J = J / m\n",
    "\n",
    "    # add the cost regularization term\n",
    "    J += (float(reg_term) / (2 * m)) * (np.sum(np.power(theta1[:,1:], 2)) + np.sum(np.power(theta2[:,1:], 2)))\n",
    "\n",
    "    ##### end of cost function logic, below is the backprop part #####\n",
    "\n",
    "    # perform backpropagation\n",
    "    for t in range(m):\n",
    "        a1t = a1[t,:]  # (1, 401)\n",
    "        z2t = z2[t,:]  # (1, 25)\n",
    "        a2t = a2[t,:]  # (1, 26)\n",
    "        ht = h[t,:]  # (1, 10)\n",
    "        yt = y[t,:]  # (1, 10)\n",
    "\n",
    "        d3t = ht - yt  # (1, 10)\n",
    "\n",
    "        z2t = np.insert(z2t, 0, values=np.ones(1))  # (1, 26)\n",
    "        d2t = np.multiply((theta2.T * d3t.T).T, sigmoid_gradient(z2t))  # (1, 26)\n",
    "\n",
    "        delta1 = delta1 + (d2t[:,1:]).T * a1t   # don't add the bias error in the hidden layer\n",
    "        delta2 = delta2 + d3t.T * a2t           # there is no bias error in the input layer\n",
    "\n",
    "    delta1 = delta1 / m\n",
    "    delta2 = delta2 / m\n",
    "\n",
    "    # add the gradient regularization term\n",
    "    delta1[:,1:] = delta1[:,1:] + (theta1[:,1:] * reg_term) / m\n",
    "    delta2[:,1:] = delta2[:,1:] + (theta2[:,1:] * reg_term) / m\n",
    "\n",
    "    # unravel the gradient matrices into a single array\n",
    "    grad = np.concatenate((np.ravel(delta1), np.ravel(delta2)))\n",
    "\n",
    "    return J, grad                      # this backpropagation function returns the initial cost and the gradients (errors)"
   ]
  },
  {
   "cell_type": "markdown",
   "metadata": {},
   "source": [
    "### Import and prepare data "
   ]
  },
  {
   "cell_type": "code",
   "execution_count": 24,
   "metadata": {},
   "outputs": [
    {
     "name": "stderr",
     "output_type": "stream",
     "text": [
      "C:\\Users\\gorja\\Anaconda3\\lib\\site-packages\\sklearn\\preprocessing\\_encoders.py:415: FutureWarning: The handling of integer data will change in version 0.22. Currently, the categories are determined based on the range [0, max(values)], while in the future they will be determined based on the unique values.\n",
      "If you want the future behaviour and silence this warning, you can specify \"categories='auto'\".\n",
      "In case you used a LabelEncoder before this OneHotEncoder to convert the categories to integers, then you can now use the OneHotEncoder directly.\n",
      "  warnings.warn(msg, FutureWarning)\n"
     ]
    }
   ],
   "source": [
    "data = loadmat('ex3data1.mat')          # open test data - handwritten digits, 5000 images of 400 pixels each \n",
    "X = data['X']  \n",
    "y = data['y'] \n",
    "\n",
    "encoder = OneHotEncoder(sparse=False)   # transform the output into ten outputs for all possible classes (0-9)\n",
    "y_onehot = encoder.fit_transform(y) "
   ]
  },
  {
   "cell_type": "markdown",
   "metadata": {},
   "source": [
    "### Initialize parameters and hyperparameters, perform a single backprop iteration"
   ]
  },
  {
   "cell_type": "code",
   "execution_count": 25,
   "metadata": {},
   "outputs": [
    {
     "name": "stdout",
     "output_type": "stream",
     "text": [
      "Initial parameters: \n",
      "[-0.08836891 -0.11363271 -0.00781728 ... -0.05825011  0.050895\n",
      "  0.09050554]\n",
      "Number of parameters: \n",
      "(10285,)\n",
      "J: \n",
      "6.759887543738763\n",
      "grad: \n",
      "[-2.82325928e-02 -2.27265420e-05 -1.56345598e-06 ...  1.86822521e-01\n",
      "  2.14788374e-01  1.95400218e-01]\n",
      "Number of cost function gradients for each parameter: \n",
      "(10285,)\n"
     ]
    }
   ],
   "source": [
    "# initial setup\n",
    "input_size = 400                        # number of input features, without the bias neuron\n",
    "hidden_size = 25                        # number of neurons in hidden layer, without bias\n",
    "num_labels = 10                         # number of neurons in output layer, same as number of classes\n",
    "reg_term = 1                            # regularization term lambda\n",
    "\n",
    "# randomly initialize a parameter array of the size of the full network's parameters, in range [-0.125, 0.125],...\n",
    "params = (np.random.random(size=hidden_size * (input_size + 1) + num_labels * (hidden_size + 1)) - 0.5) * 0.25\n",
    "# ... or initialize parameter array of all zeroes and see the difference\n",
    "#params = np.zeros(hidden_size * (input_size + 1) + num_labels * (hidden_size + 1))\n",
    "\n",
    "J, grad = backprop(params, input_size, hidden_size, num_labels, X, y_onehot, reg_term)\n",
    "\n",
    "print (\"Initial parameters: \")\n",
    "print (params)\n",
    "print (\"Number of parameters: \")\n",
    "print (params.shape)\n",
    "print (\"J: \")\n",
    "print (J)\n",
    "print (\"grad: \")\n",
    "print (grad)\n",
    "print (\"Number of cost function gradients for each parameter: \")\n",
    "print (grad.shape)"
   ]
  },
  {
   "cell_type": "markdown",
   "metadata": {},
   "source": [
    "### Optimize the backprop cost function"
   ]
  },
  {
   "cell_type": "code",
   "execution_count": 26,
   "metadata": {},
   "outputs": [
    {
     "name": "stdout",
     "output_type": "stream",
     "text": [
      "Optimization done.\n"
     ]
    }
   ],
   "source": [
    "# minimize the objective function in 'maxiter' iterations to obtain the theta parameter values,\n",
    "# jac=True assumes that fun=backprop returns both the cost and the gradient, as it does\n",
    "# more info at: https://docs.scipy.org/doc/scipy-0.18.1/reference/generated/scipy.optimize.minimize.html \n",
    "fmin = minimize(fun=backprop, x0=params, args=(input_size, hidden_size, num_labels, X, y_onehot, reg_term),  \n",
    "                method='TNC', jac=True, options={'maxiter': 100})       # this could take a while...\n",
    "print('Optimization done.')"
   ]
  },
  {
   "cell_type": "markdown",
   "metadata": {},
   "source": [
    "### Perform a single final forward propagation to obtain predictions and calculate accuracy "
   ]
  },
  {
   "cell_type": "code",
   "execution_count": 27,
   "metadata": {},
   "outputs": [
    {
     "name": "stdout",
     "output_type": "stream",
     "text": [
      "[[10]\n",
      " [10]\n",
      " [10]\n",
      " ...\n",
      " [ 9]\n",
      " [ 9]\n",
      " [ 9]]\n",
      "Accuracy: \n",
      "91.5\n"
     ]
    }
   ],
   "source": [
    "# Finally, do a forward propagation with the obtained optimal parameters and predict the outputs (y_pred)\n",
    "X = np.matrix(X)  \n",
    "theta1 = np.matrix(np.reshape(fmin.x[:hidden_size * (input_size + 1)], (hidden_size, (input_size + 1))))  \n",
    "theta2 = np.matrix(np.reshape(fmin.x[hidden_size * (input_size + 1):], (num_labels, (hidden_size + 1))))\n",
    "\n",
    "a1, z2, a2, z3, h = forward_propagate(X, theta1, theta2)  \n",
    "y_pred = np.array(np.argmax(h, axis=1) + 1)     # y_pred contains the predicted digits\n",
    "print (y_pred)\n",
    "\n",
    "# Compute accuracy: \n",
    "counter = 0\n",
    "for i in range(y_pred.shape[0]):\n",
    "    if (y_pred[i,0] == y[i,0]):\n",
    "        counter += 1\n",
    "        \n",
    "print (\"Accuracy: \")\n",
    "print (counter*100.0/y_pred.shape[0]) "
   ]
  },
  {
   "cell_type": "code",
   "execution_count": null,
   "metadata": {},
   "outputs": [],
   "source": []
  }
 ],
 "metadata": {
  "kernelspec": {
   "display_name": "Python 3",
   "language": "python",
   "name": "python3"
  },
  "language_info": {
   "codemirror_mode": {
    "name": "ipython",
    "version": 3
   },
   "file_extension": ".py",
   "mimetype": "text/x-python",
   "name": "python",
   "nbconvert_exporter": "python",
   "pygments_lexer": "ipython3",
   "version": "3.7.3"
  }
 },
 "nbformat": 4,
 "nbformat_minor": 4
}
